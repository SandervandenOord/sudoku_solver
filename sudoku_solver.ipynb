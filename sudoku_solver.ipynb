{
 "cells": [
  {
   "cell_type": "markdown",
   "metadata": {},
   "source": [
    "# Sudoku solver\n",
    "\n",
    "I use a simple brute force method:  \n",
    "1. Find all coordinates without a number (a zero instead of a number 1 to 9).\n",
    "2. Try for the first coordinate the number 1.\n",
    "3. Check if number is possible: no nr 1 in row, column or sector present already.\n",
    "4. If number already present, try higher number for that coordinate.\n",
    "5. If number is possible in current coordinate, go to next coordinate. \n",
    "6. If no number is possible at all in a coordinate, it means we have filled an earlier coordinate with the wrong number. So we backtrack one coordinate and try for that coordinate a different, higher number."
   ]
  },
  {
   "cell_type": "code",
   "execution_count": 1,
   "metadata": {},
   "outputs": [],
   "source": [
    "import numpy as np"
   ]
  },
  {
   "cell_type": "code",
   "execution_count": 2,
   "metadata": {},
   "outputs": [],
   "source": [
    "sudoku1 = np.array([\n",
    "    [0, 7, 8, 0, 0, 0, 1, 3, 0],\n",
    "    [6, 4, 0, 7, 1, 0, 0, 0, 0],\n",
    "    [0, 0, 0, 8, 5, 4, 0, 2, 7],\n",
    "    [4, 0, 5, 9, 0, 0, 7, 0, 0],\n",
    "    [0, 0, 0, 2, 0, 1, 0, 8, 3],\n",
    "    [0, 8, 3, 0, 0, 6, 0, 1, 9],\n",
    "    [0, 6, 9, 0, 0, 0, 2, 0, 0],\n",
    "    [0, 0, 4, 1, 0, 5, 0, 7, 0],\n",
    "    [1, 0, 0, 3, 0, 2, 9, 0, 8]\n",
    "])"
   ]
  },
  {
   "cell_type": "code",
   "execution_count": 3,
   "metadata": {},
   "outputs": [],
   "source": [
    "sudoku2 = np.array([\n",
    "    0, 0, 0, 7, 0, 1, 0, 0, 0,\n",
    "    5, 0, 0, 0, 3, 0, 2, 0, 4,\n",
    "    0, 0, 0, 0, 0, 0, 1, 0, 5,\n",
    "    0, 4, 0, 0, 0, 0, 0, 0, 0,\n",
    "    6, 0, 1, 5, 7, 2, 0, 0, 0,\n",
    "    0, 0, 7, 0, 4, 6, 0, 0, 0,\n",
    "    9, 0, 0, 0, 0, 0, 0, 2, 0,\n",
    "    0, 0, 3, 0, 1, 8, 0, 5, 0,\n",
    "    0, 0, 0, 0, 2, 5, 3, 0, 8\n",
    "]).reshape(9, 9)"
   ]
  },
  {
   "cell_type": "code",
   "execution_count": 4,
   "metadata": {},
   "outputs": [],
   "source": [
    "def is_valid_entry(nr, row, col, matrix):\n",
    "    \"\"\"\n",
    "    Check if the number is already in the row, column or sector.\n",
    "    If so then the number is not a valid solution and returns False.\n",
    "    Otherwise if the number is a valid entry, the function returns True.\n",
    "    \"\"\"\n",
    "    \n",
    "    def already_in_row():\n",
    "        \"\"\"Returns whether the matrix row already contains this number\"\"\"\n",
    "        return np.isin(nr, matrix[row, :])\n",
    "    \n",
    "    def already_in_column():\n",
    "        \"\"\"Returns whether the matrix column already contains this number\"\"\"\n",
    "        return np.isin(nr, matrix[:, col])\n",
    "    \n",
    "    def already_in_sector():\n",
    "        \"\"\"Returns whether the matrix sector already contains this number\"\"\"\n",
    "        start_row = (row // 3) * 3\n",
    "        end_row = start_row + 3\n",
    "        \n",
    "        start_col = (col // 3) * 3\n",
    "        end_col = start_col + 3\n",
    "        current_sector = matrix[start_row:end_row, start_col:end_col]\n",
    "        \n",
    "        return np.isin(nr, current_sector)\n",
    "    \n",
    "    if nr > 9 or already_in_row() or already_in_column() or already_in_sector():\n",
    "        return False\n",
    "    else: \n",
    "        return True"
   ]
  },
  {
   "cell_type": "code",
   "execution_count": 5,
   "metadata": {},
   "outputs": [],
   "source": [
    "def get_coordinates_that_need_solution(matrix):\n",
    "    \"\"\"Return all the coordinates that have a 0 in the sudoku and need a solution.\"\"\"\n",
    "    return np.dstack(np.where(matrix==0))[0]"
   ]
  },
  {
   "cell_type": "code",
   "execution_count": 6,
   "metadata": {},
   "outputs": [],
   "source": [
    "def find_solutions(matrix):\n",
    "    \"\"\"\n",
    "    Returns a solution for a sudoku matrix.\n",
    "    \"\"\"\n",
    "    \n",
    "    # find all coordinates that don't have a number 1 to 9 yet\n",
    "    coordinates_to_solve = get_coordinates_that_need_solution(matrix)\n",
    "    \n",
    "    coord_nr = 0\n",
    "    backtracks = 0\n",
    "    \n",
    "    while coord_nr < len(coordinates_to_solve):\n",
    "        \n",
    "        row = coordinates_to_solve[coord_nr, 0]\n",
    "        col = coordinates_to_solve[coord_nr, 1]\n",
    "\n",
    "        # start trying number 1 to 9 in current coordinate\n",
    "        for number in range(matrix[row, col]+1, 11):\n",
    "            \n",
    "            valid_entry = is_valid_entry(number, row, col, matrix)\n",
    "\n",
    "            if valid_entry:\n",
    "                matrix[row, col] = number\n",
    "                # go to next coordinate\n",
    "                coord_nr += 1\n",
    "                break\n",
    "            \n",
    "            # if no number 1 to 9 is possible in current coordinate:\n",
    "            # it means we have a wrong number in an earlier coordinate, so:\n",
    "            # set current coordinate to 0 and go one coordinate back.\n",
    "            if number > 9:\n",
    "                matrix[row, col] = 0\n",
    "                coord_nr -= 1\n",
    "                backtracks += 1\n",
    " \n",
    "    return matrix"
   ]
  },
  {
   "cell_type": "code",
   "execution_count": 7,
   "metadata": {},
   "outputs": [
    {
     "data": {
      "text/plain": [
       "array([[5, 7, 8, 6, 2, 9, 1, 3, 4],\n",
       "       [6, 4, 2, 7, 1, 3, 8, 9, 5],\n",
       "       [9, 3, 1, 8, 5, 4, 6, 2, 7],\n",
       "       [4, 1, 5, 9, 3, 8, 7, 6, 2],\n",
       "       [7, 9, 6, 2, 4, 1, 5, 8, 3],\n",
       "       [2, 8, 3, 5, 7, 6, 4, 1, 9],\n",
       "       [3, 6, 9, 4, 8, 7, 2, 5, 1],\n",
       "       [8, 2, 4, 1, 9, 5, 3, 7, 6],\n",
       "       [1, 5, 7, 3, 6, 2, 9, 4, 8]])"
      ]
     },
     "execution_count": 7,
     "metadata": {},
     "output_type": "execute_result"
    }
   ],
   "source": [
    "solution1 = find_solutions(sudoku1.copy())\n",
    "solution1"
   ]
  },
  {
   "cell_type": "code",
   "execution_count": 8,
   "metadata": {},
   "outputs": [
    {
     "data": {
      "text/plain": [
       "array([[2, 3, 4, 7, 5, 1, 6, 8, 9],\n",
       "       [5, 1, 8, 6, 3, 9, 2, 7, 4],\n",
       "       [7, 6, 9, 2, 8, 4, 1, 3, 5],\n",
       "       [8, 4, 2, 1, 9, 3, 5, 6, 7],\n",
       "       [6, 9, 1, 5, 7, 2, 8, 4, 3],\n",
       "       [3, 5, 7, 8, 4, 6, 9, 1, 2],\n",
       "       [9, 8, 5, 3, 6, 7, 4, 2, 1],\n",
       "       [4, 2, 3, 9, 1, 8, 7, 5, 6],\n",
       "       [1, 7, 6, 4, 2, 5, 3, 9, 8]])"
      ]
     },
     "execution_count": 8,
     "metadata": {},
     "output_type": "execute_result"
    }
   ],
   "source": [
    "solution2 = find_solutions(sudoku2.copy())\n",
    "solution2"
   ]
  }
 ],
 "metadata": {
  "kernelspec": {
   "display_name": "openu3",
   "language": "python",
   "name": "openu3"
  },
  "language_info": {
   "codemirror_mode": {
    "name": "ipython",
    "version": 3
   },
   "file_extension": ".py",
   "mimetype": "text/x-python",
   "name": "python",
   "nbconvert_exporter": "python",
   "pygments_lexer": "ipython3",
   "version": "3.6.8"
  }
 },
 "nbformat": 4,
 "nbformat_minor": 2
}
